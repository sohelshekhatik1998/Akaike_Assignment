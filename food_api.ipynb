{
  "nbformat": 4,
  "nbformat_minor": 0,
  "metadata": {
    "colab": {
      "provenance": [],
      "authorship_tag": "ABX9TyPtxQxf/0mOJBQj5i2kS5mr",
      "include_colab_link": true
    },
    "kernelspec": {
      "name": "python3",
      "display_name": "Python 3"
    },
    "language_info": {
      "name": "python"
    }
  },
  "cells": [
    {
      "cell_type": "markdown",
      "metadata": {
        "id": "view-in-github",
        "colab_type": "text"
      },
      "source": [
        "<a href=\"https://colab.research.google.com/github/sohelshekhatik1998/Akaike_Assignment/blob/main/food_api.ipynb\" target=\"_parent\"><img src=\"https://colab.research.google.com/assets/colab-badge.svg\" alt=\"Open In Colab\"/></a>"
      ]
    },
    {
      "cell_type": "code",
      "execution_count": null,
      "metadata": {
        "colab": {
          "base_uri": "https://localhost:8080/"
        },
        "id": "tyPb1dLpozQE",
        "outputId": "4f360d81-2722-4e20-de4a-0640d49ef503"
      },
      "outputs": [
        {
          "output_type": "stream",
          "name": "stdout",
          "text": [
            " * Serving Flask app '__main__'\n",
            " * Debug mode: on\n"
          ]
        },
        {
          "output_type": "stream",
          "name": "stderr",
          "text": [
            "INFO:werkzeug:\u001b[31m\u001b[1mWARNING: This is a development server. Do not use it in a production deployment. Use a production WSGI server instead.\u001b[0m\n",
            " * Running on http://127.0.0.1:5000\n",
            "INFO:werkzeug:\u001b[33mPress CTRL+C to quit\u001b[0m\n",
            "INFO:werkzeug: * Restarting with stat\n"
          ]
        }
      ],
      "source": [
        "from flask import Flask, request, jsonify\n",
        "\n",
        "app = Flask(__name__)\n",
        "\n",
        "# Sample data (replace with database)\n",
        "menu_items = [\n",
        "    {\"id\": 1, \"name\": \"Pizza\", \"price\": 10.99},\n",
        "    {\"id\": 2, \"name\": \"Burger\", \"price\": 8.99},\n",
        "    {\"id\": 3, \"name\": \"Salad\", \"price\": 6.99}\n",
        "]\n",
        "\n",
        "orders = []\n",
        "\n",
        "# Endpoint to get menu items\n",
        "@app.route('/menu', methods=['GET'])\n",
        "def get_menu():\n",
        "    return jsonify(menu_items)\n",
        "\n",
        "# Endpoint to place an order\n",
        "@app.route('/order', methods=['POST'])\n",
        "def place_order():\n",
        "    data = request.json\n",
        "    # Sample validation, replace with proper validation\n",
        "    if 'item_id' not in data or 'quantity' not in data:\n",
        "        return jsonify({\"error\": \"Invalid request\"}), 400\n",
        "    item_id = data['item_id']\n",
        "    quantity = data['quantity']\n",
        "    item = next((item for item in menu_items if item['id'] == item_id), None)\n",
        "    if item:\n",
        "        total_price = item['price'] * quantity\n",
        "        orders.append({\"item\": item['name'], \"quantity\": quantity, \"total_price\": total_price})\n",
        "        return jsonify({\"message\": \"Order placed successfully\"}), 201\n",
        "    else:\n",
        "        return jsonify({\"error\": \"Item not found\"}), 404\n",
        "\n",
        "# Endpoint to view orders\n",
        "@app.route('/orders', methods=['GET'])\n",
        "def get_orders():\n",
        "    return jsonify(orders)\n",
        "\n",
        "if __name__ == '__main__':\n",
        "    app.run(debug=True)\n"
      ]
    }
  ]
}