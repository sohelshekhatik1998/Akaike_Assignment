{
  "nbformat": 4,
  "nbformat_minor": 0,
  "metadata": {
    "colab": {
      "provenance": [],
      "include_colab_link": true
    },
    "kernelspec": {
      "name": "python3",
      "display_name": "Python 3"
    },
    "language_info": {
      "name": "python"
    }
  },
  "cells": [
    {
      "cell_type": "markdown",
      "metadata": {
        "id": "view-in-github",
        "colab_type": "text"
      },
      "source": [
        "<a href=\"https://colab.research.google.com/github/sohelshekhatik1998/Akaike_Assignment/blob/main/SOHEL___NLP_Assignment.ipynb\" target=\"_parent\"><img src=\"https://colab.research.google.com/assets/colab-badge.svg\" alt=\"Open In Colab\"/></a>"
      ]
    },
    {
      "cell_type": "code",
      "execution_count": 4,
      "metadata": {
        "id": "JitNQYY6wvDM",
        "colab": {
          "base_uri": "https://localhost:8080/"
        },
        "outputId": "4bdc891d-1b1c-4b82-8718-a55bfeb6bba6"
      },
      "outputs": [
        {
          "output_type": "stream",
          "name": "stdout",
          "text": [
            "Enter the paragraph: In plants, algae and cyanobacteria, sugars are synthesized by a subsequent sequence of light-independent reactions called the Calvin cycle. In the Calvin cycle, atmospheric carbon dioxide is incorporated into already existing organic carbon compounds, such as ribulose bisphosphate (RuBP).[5] Using the ATP and NADPH produced by the light-dependent reactions, the resulting compounds are then reduced and removed to form further carbohydrates, such as glucose. In other bacteria, different mechanisms such as the reverse Krebs cycle are used to achieve the same end. The first photosynthetic organisms probably evolved early in the evolutionary history of life and most likely used reducing agents such as hydrogen or hydrogen sulfide, rather than water, as sources of electrons. Cyanobacteria appeared later; the excess oxygen they produced contributed directly to the oxygenation of the Earth, which rendered the evolution of complex life possible. Today, the average rate of energy capture by photosynthesis globally is approximately 130 terawatts, which is about eight times the current power consumption of human civilization. Photosynthetic organisms also convert around 100–115 billion tons (91–104 Pg petagrams, or billion metric tons), of carbon into biomass per year. That plants receive some energy from light – in addition to air, soil, and water – was first discovered in 1779 by Jan Ingenhousz.\n",
            "Enter the number of questions: 3\n",
            "Q1: In other ______, different mechanisms such as the reverse Krebs cycle are used to achieve the same end.\n",
            "1. photosynthetic\n",
            "2. bacteria\n",
            "3. sugars\n",
            "4. times\n",
            "5. glucose\n",
            "Correct Options: (b) & (c)\n",
            "\n",
            "Q2: Today, the average rate of energy capture by photosynthesis globally is approximately 130 terawatts, which is about eight ______ the current power consumption of human civilization.\n",
            "1. by\n",
            "2. dependent\n",
            "3. and\n",
            "4. the\n",
            "5. times\n",
            "Correct Options: (e) & (b) & (c)\n",
            "\n",
            "Q3: In o______r bacteria, different mechanisms such as ______ reverse Krebs cycle are used to achieve ______ same end.\n",
            "1. also\n",
            "2. to\n",
            "3. early\n",
            "4. early\n",
            "5. the\n",
            "Correct Options: (e) & (b) & (c)\n",
            "\n"
          ]
        }
      ],
      "source": [
        "#Important Libraries\n",
        "import spacy\n",
        "import random\n",
        "\n",
        "# Load English language model\n",
        "nlp = spacy.load(\"en_core_web_sm\")\n",
        "\n",
        "def get_mca_questions(context: str, num_questions: int):\n",
        "    doc = nlp(context)\n",
        "\n",
        "    def generate_mcq_with_multiple_correct(question, correct_answers, other_options, num_options=4):\n",
        "        options = correct_answers + other_options\n",
        "        random.shuffle(options)\n",
        "\n",
        "        mcq = {\n",
        "            \"question\": question,\n",
        "            \"options\": options,\n",
        "            \"correct_answers\": correct_answers\n",
        "        }\n",
        "\n",
        "        return mcq\n",
        "\n",
        "    def generate_variety_question():\n",
        "        sentence = random.choice(list(doc.sents))\n",
        "        blank_word = random.choice([token for token in sentence if not token.is_punct])\n",
        "\n",
        "        question_text = sentence.text.replace(blank_word.text, \"______\")\n",
        "        correct_answers = [blank_word.text]\n",
        "\n",
        "        other_options = [token.text for token in doc if token.is_alpha and token.text != correct_answers[0]]\n",
        "        num_correct_options = random.randint(1, 2)  # Generate 1 or 2 correct options\n",
        "        correct_answers.extend(random.sample(other_options, num_correct_options))\n",
        "\n",
        "        num_other_options = min(4 - num_correct_options, len(other_options))\n",
        "        other_options = random.sample(other_options, num_other_options)\n",
        "\n",
        "        mcq = generate_mcq_with_multiple_correct(question_text, correct_answers, other_options)\n",
        "        return mcq\n",
        "\n",
        "    questions = [generate_variety_question() for _ in range(num_questions)]\n",
        "\n",
        "    mca_questions = []\n",
        "    for i, question in enumerate(questions, start=1):\n",
        "        question_str = f\"Q{i}: {question['question']}\\n\"\n",
        "        options_str = \"\"\n",
        "        for j, option in enumerate(question['options']):\n",
        "            options_str += f\"{j+1}. {option}\\n\"\n",
        "\n",
        "        correct_options_formatted = \" & \".join([f\"({chr(97+question['options'].index(ans))})\" for ans in question['correct_answers']])\n",
        "        correct_options_str = f\"Correct Options: {correct_options_formatted}\"\n",
        "\n",
        "        mca_question = f\"{question_str}{options_str}{correct_options_str}\\n\"\n",
        "        mca_questions.append(mca_question)\n",
        "\n",
        "    return mca_questions\n",
        "\n",
        "context = input(\"Enter the paragraph: \")\n",
        "num_questions = int(input(\"Enter the number of questions: \"))\n",
        "mca_questions = get_mca_questions(context, num_questions)\n",
        "for question in mca_questions:\n",
        "    print(question)\n"
      ]
    }
  ]
}